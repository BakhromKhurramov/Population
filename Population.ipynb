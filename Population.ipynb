{
 "cells": [
  {
   "cell_type": "code",
   "execution_count": 2,
   "id": "467f3cae",
   "metadata": {},
   "outputs": [],
   "source": [
    "import pandas as pd\n",
    "import matplotlib.pyplot as plt"
   ]
  },
  {
   "cell_type": "code",
   "execution_count": 3,
   "id": "9f171832",
   "metadata": {
    "scrolled": true
   },
   "outputs": [],
   "source": [
    "data = pd.read_excel('Population.xlsx', 'city')"
   ]
  },
  {
   "cell_type": "code",
   "execution_count": 4,
   "id": "8f592621",
   "metadata": {},
   "outputs": [],
   "source": [
    "df = pd.read_excel('Population.xlsx', 'city')"
   ]
  },
  {
   "cell_type": "code",
   "execution_count": null,
   "id": "3f40b3b9",
   "metadata": {},
   "outputs": [],
   "source": []
  },
  {
   "cell_type": "code",
   "execution_count": 5,
   "id": "f3165fe5",
   "metadata": {},
   "outputs": [
    {
     "data": {
      "text/plain": [
       "Город                  0\n",
       "year                   0\n",
       "fact               27000\n",
       "Модель                 0\n",
       "Нижняя граница         0\n",
       "Верхняя граница        0\n",
       "dtype: int64"
      ]
     },
     "execution_count": 5,
     "metadata": {},
     "output_type": "execute_result"
    }
   ],
   "source": [
    "df.isnull().sum()"
   ]
  },
  {
   "cell_type": "code",
   "execution_count": 7,
   "id": "4aaa74d0",
   "metadata": {},
   "outputs": [
    {
     "data": {
      "text/plain": [
       "248"
      ]
     },
     "execution_count": 7,
     "metadata": {},
     "output_type": "execute_result"
    }
   ],
   "source": [
    "filtered_df = df[df['fact'].notnull()]\n",
    "filtered_df['Город'].nunique()"
   ]
  },
  {
   "cell_type": "code",
   "execution_count": 8,
   "id": "a054cd11",
   "metadata": {},
   "outputs": [
    {
     "data": {
      "text/plain": [
       "Город              0\n",
       "year               0\n",
       "fact               0\n",
       "Модель             0\n",
       "Нижняя граница     0\n",
       "Верхняя граница    0\n",
       "dtype: int64"
      ]
     },
     "execution_count": 8,
     "metadata": {},
     "output_type": "execute_result"
    }
   ],
   "source": [
    "filtered_df.isnull().sum()"
   ]
  },
  {
   "cell_type": "code",
   "execution_count": 9,
   "id": "1f9885c6",
   "metadata": {},
   "outputs": [
    {
     "data": {
      "text/html": [
       "<div>\n",
       "<style scoped>\n",
       "    .dataframe tbody tr th:only-of-type {\n",
       "        vertical-align: middle;\n",
       "    }\n",
       "\n",
       "    .dataframe tbody tr th {\n",
       "        vertical-align: top;\n",
       "    }\n",
       "\n",
       "    .dataframe thead th {\n",
       "        text-align: right;\n",
       "    }\n",
       "</style>\n",
       "<table border=\"1\" class=\"dataframe\">\n",
       "  <thead>\n",
       "    <tr style=\"text-align: right;\">\n",
       "      <th></th>\n",
       "      <th>Город</th>\n",
       "      <th>year</th>\n",
       "      <th>fact</th>\n",
       "      <th>Модель</th>\n",
       "      <th>Нижняя граница</th>\n",
       "      <th>Верхняя граница</th>\n",
       "    </tr>\n",
       "  </thead>\n",
       "  <tbody>\n",
       "    <tr>\n",
       "      <th>8</th>\n",
       "      <td>Белокуриха</td>\n",
       "      <td>2008</td>\n",
       "      <td>14781.0</td>\n",
       "      <td>14900</td>\n",
       "      <td>14600</td>\n",
       "      <td>15200</td>\n",
       "    </tr>\n",
       "    <tr>\n",
       "      <th>9</th>\n",
       "      <td>Белокуриха</td>\n",
       "      <td>2009</td>\n",
       "      <td>14781.0</td>\n",
       "      <td>14800</td>\n",
       "      <td>14500</td>\n",
       "      <td>15100</td>\n",
       "    </tr>\n",
       "    <tr>\n",
       "      <th>10</th>\n",
       "      <td>Белокуриха</td>\n",
       "      <td>2010</td>\n",
       "      <td>14701.0</td>\n",
       "      <td>14700</td>\n",
       "      <td>14400</td>\n",
       "      <td>15100</td>\n",
       "    </tr>\n",
       "    <tr>\n",
       "      <th>11</th>\n",
       "      <td>Белокуриха</td>\n",
       "      <td>2011</td>\n",
       "      <td>14516.0</td>\n",
       "      <td>14700</td>\n",
       "      <td>14400</td>\n",
       "      <td>15000</td>\n",
       "    </tr>\n",
       "    <tr>\n",
       "      <th>12</th>\n",
       "      <td>Белокуриха</td>\n",
       "      <td>2012</td>\n",
       "      <td>14375.0</td>\n",
       "      <td>14700</td>\n",
       "      <td>14400</td>\n",
       "      <td>15000</td>\n",
       "    </tr>\n",
       "    <tr>\n",
       "      <th>...</th>\n",
       "      <td>...</td>\n",
       "      <td>...</td>\n",
       "      <td>...</td>\n",
       "      <td>...</td>\n",
       "      <td>...</td>\n",
       "      <td>...</td>\n",
       "    </tr>\n",
       "    <tr>\n",
       "      <th>30145</th>\n",
       "      <td>Облучье</td>\n",
       "      <td>2016</td>\n",
       "      <td>9960.0</td>\n",
       "      <td>9800</td>\n",
       "      <td>9500</td>\n",
       "      <td>10200</td>\n",
       "    </tr>\n",
       "    <tr>\n",
       "      <th>30146</th>\n",
       "      <td>Облучье</td>\n",
       "      <td>2017</td>\n",
       "      <td>9875.0</td>\n",
       "      <td>9800</td>\n",
       "      <td>9500</td>\n",
       "      <td>10200</td>\n",
       "    </tr>\n",
       "    <tr>\n",
       "      <th>30147</th>\n",
       "      <td>Облучье</td>\n",
       "      <td>2018</td>\n",
       "      <td>9681.0</td>\n",
       "      <td>9800</td>\n",
       "      <td>9400</td>\n",
       "      <td>10100</td>\n",
       "    </tr>\n",
       "    <tr>\n",
       "      <th>30148</th>\n",
       "      <td>Облучье</td>\n",
       "      <td>2019</td>\n",
       "      <td>9582.0</td>\n",
       "      <td>9700</td>\n",
       "      <td>9400</td>\n",
       "      <td>10000</td>\n",
       "    </tr>\n",
       "    <tr>\n",
       "      <th>30149</th>\n",
       "      <td>Облучье</td>\n",
       "      <td>2020</td>\n",
       "      <td>9484.0</td>\n",
       "      <td>9600</td>\n",
       "      <td>9300</td>\n",
       "      <td>10000</td>\n",
       "    </tr>\n",
       "  </tbody>\n",
       "</table>\n",
       "<p>3250 rows × 6 columns</p>\n",
       "</div>"
      ],
      "text/plain": [
       "            Город  year     fact  Модель  Нижняя граница  Верхняя граница\n",
       "8      Белокуриха  2008  14781.0   14900           14600            15200\n",
       "9      Белокуриха  2009  14781.0   14800           14500            15100\n",
       "10     Белокуриха  2010  14701.0   14700           14400            15100\n",
       "11     Белокуриха  2011  14516.0   14700           14400            15000\n",
       "12     Белокуриха  2012  14375.0   14700           14400            15000\n",
       "...           ...   ...      ...     ...             ...              ...\n",
       "30145     Облучье  2016   9960.0    9800            9500            10200\n",
       "30146     Облучье  2017   9875.0    9800            9500            10200\n",
       "30147     Облучье  2018   9681.0    9800            9400            10100\n",
       "30148     Облучье  2019   9582.0    9700            9400            10000\n",
       "30149     Облучье  2020   9484.0    9600            9300            10000\n",
       "\n",
       "[3250 rows x 6 columns]"
      ]
     },
     "execution_count": 9,
     "metadata": {},
     "output_type": "execute_result"
    }
   ],
   "source": [
    "filtered_df"
   ]
  },
  {
   "cell_type": "code",
   "execution_count": 10,
   "id": "c0aa3fd3",
   "metadata": {},
   "outputs": [],
   "source": [
    "df_groupby = filtered_df.groupby('year')[['fact', 'Модель']].sum().reset_index()"
   ]
  },
  {
   "cell_type": "code",
   "execution_count": 11,
   "id": "9f3e528b",
   "metadata": {},
   "outputs": [
    {
     "data": {
      "text/html": [
       "<div>\n",
       "<style scoped>\n",
       "    .dataframe tbody tr th:only-of-type {\n",
       "        vertical-align: middle;\n",
       "    }\n",
       "\n",
       "    .dataframe tbody tr th {\n",
       "        vertical-align: top;\n",
       "    }\n",
       "\n",
       "    .dataframe thead th {\n",
       "        text-align: right;\n",
       "    }\n",
       "</style>\n",
       "<table border=\"1\" class=\"dataframe\">\n",
       "  <thead>\n",
       "    <tr style=\"text-align: right;\">\n",
       "      <th></th>\n",
       "      <th>year</th>\n",
       "      <th>fact</th>\n",
       "      <th>Модель</th>\n",
       "    </tr>\n",
       "  </thead>\n",
       "  <tbody>\n",
       "    <tr>\n",
       "      <th>0</th>\n",
       "      <td>2008</td>\n",
       "      <td>30624410.0</td>\n",
       "      <td>30489600</td>\n",
       "    </tr>\n",
       "    <tr>\n",
       "      <th>1</th>\n",
       "      <td>2009</td>\n",
       "      <td>30712231.0</td>\n",
       "      <td>30737000</td>\n",
       "    </tr>\n",
       "    <tr>\n",
       "      <th>2</th>\n",
       "      <td>2010</td>\n",
       "      <td>30940130.0</td>\n",
       "      <td>30975400</td>\n",
       "    </tr>\n",
       "    <tr>\n",
       "      <th>3</th>\n",
       "      <td>2011</td>\n",
       "      <td>31353440.0</td>\n",
       "      <td>31201400</td>\n",
       "    </tr>\n",
       "    <tr>\n",
       "      <th>4</th>\n",
       "      <td>2012</td>\n",
       "      <td>31487400.0</td>\n",
       "      <td>31413700</td>\n",
       "    </tr>\n",
       "    <tr>\n",
       "      <th>5</th>\n",
       "      <td>2013</td>\n",
       "      <td>31698056.0</td>\n",
       "      <td>31610600</td>\n",
       "    </tr>\n",
       "    <tr>\n",
       "      <th>6</th>\n",
       "      <td>2014</td>\n",
       "      <td>31897252.0</td>\n",
       "      <td>31790400</td>\n",
       "    </tr>\n",
       "    <tr>\n",
       "      <th>7</th>\n",
       "      <td>2015</td>\n",
       "      <td>32052626.0</td>\n",
       "      <td>31953300</td>\n",
       "    </tr>\n",
       "    <tr>\n",
       "      <th>8</th>\n",
       "      <td>2016</td>\n",
       "      <td>32245644.0</td>\n",
       "      <td>32104500</td>\n",
       "    </tr>\n",
       "    <tr>\n",
       "      <th>9</th>\n",
       "      <td>2017</td>\n",
       "      <td>32335183.0</td>\n",
       "      <td>32242500</td>\n",
       "    </tr>\n",
       "    <tr>\n",
       "      <th>10</th>\n",
       "      <td>2018</td>\n",
       "      <td>32490254.0</td>\n",
       "      <td>32369000</td>\n",
       "    </tr>\n",
       "    <tr>\n",
       "      <th>11</th>\n",
       "      <td>2019</td>\n",
       "      <td>32656151.0</td>\n",
       "      <td>32485900</td>\n",
       "    </tr>\n",
       "    <tr>\n",
       "      <th>12</th>\n",
       "      <td>2020</td>\n",
       "      <td>32706275.0</td>\n",
       "      <td>32595100</td>\n",
       "    </tr>\n",
       "  </tbody>\n",
       "</table>\n",
       "</div>"
      ],
      "text/plain": [
       "    year        fact    Модель\n",
       "0   2008  30624410.0  30489600\n",
       "1   2009  30712231.0  30737000\n",
       "2   2010  30940130.0  30975400\n",
       "3   2011  31353440.0  31201400\n",
       "4   2012  31487400.0  31413700\n",
       "5   2013  31698056.0  31610600\n",
       "6   2014  31897252.0  31790400\n",
       "7   2015  32052626.0  31953300\n",
       "8   2016  32245644.0  32104500\n",
       "9   2017  32335183.0  32242500\n",
       "10  2018  32490254.0  32369000\n",
       "11  2019  32656151.0  32485900\n",
       "12  2020  32706275.0  32595100"
      ]
     },
     "execution_count": 11,
     "metadata": {},
     "output_type": "execute_result"
    }
   ],
   "source": [
    "df_groupby"
   ]
  },
  {
   "cell_type": "code",
   "execution_count": 12,
   "id": "08e95b48",
   "metadata": {},
   "outputs": [
    {
     "data": {
      "image/png": "[encoded data removed]",
      "text/plain": [
       "<Figure size 1000x600 with 1 Axes>"
      ]
     },
     "metadata": {},
     "output_type": "display_data"
    }
   ],
   "source": [
    "import matplotlib.pyplot as plt\n",
    "\n",
    "# Jamiyot o'zgarishi va prognostik ma'lumotlarni grafik ko'rinishida ko'rsatish\n",
    "plt.figure(figsize=(10, 6))\n",
    "plt.plot(df_groupby['year'], df_groupby['fact'], label='Fact Population', marker='o')\n",
    "plt.plot(df_groupby['year'], df_groupby['Модель'], label='Model Population', linestyle='--', marker='x')\n",
    "##plt.fill_between(df_groupby['year'], df_groupby['Нижняя граница'], df_groupby['Верхняя граница'], color='gray', alpha=0.2, label='Confidence Interval')\n",
    "plt.xlabel('Year')\n",
    "plt.ylabel('Population')\n",
    "plt.title('Population Analysis')\n",
    "plt.legend()\n",
    "plt.grid(True)\n",
    "plt.show()"
   ]
  }
 ],
 "metadata": {
  "kernelspec": {
   "display_name": "Python 3 (ipykernel)",
   "language": "python",
   "name": "python3"
  },
  "language_info": {
   "codemirror_mode": {
    "name": "ipython",
    "version": 3
   },
   "file_extension": ".py",
   "mimetype": "text/x-python",
   "name": "python",
   "nbconvert_exporter": "python",
   "pygments_lexer": "ipython3",
   "version": "3.11.3"
  }
 },
 "nbformat": 4,
 "nbformat_minor": 5
}
